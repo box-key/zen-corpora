{
 "cells": [
  {
   "cell_type": "code",
   "execution_count": 133,
   "metadata": {},
   "outputs": [
    {
     "name": "stdout",
     "output_type": "stream",
     "text": [
      "The autoreload extension is already loaded. To reload it, use:\n",
      "  %reload_ext autoreload\n"
     ]
    }
   ],
   "source": [
    "import zencorpus\n",
    "%load_ext autoreload\n",
    "%autoreload 2"
   ]
  },
  {
   "cell_type": "code",
   "execution_count": 119,
   "metadata": {},
   "outputs": [],
   "source": [
    "# # node = zencorpus.TrieNode('')\n",
    "\n",
    "# # sen = ['I', 'have', 'a', 'dog']\n",
    "\n",
    "# # for i in sen:\n",
    "# #     node.add_child(i)\n",
    "# # for i in node.children:\n",
    "# #     print(i.token)\n",
    "\n",
    "# # for i in sen:\n",
    "# #     node.add_child(i)\n",
    "# # for i in node.children:\n",
    "# #     print(i.token)\n",
    "\n",
    "# node.get_child(90)"
   ]
  },
  {
   "cell_type": "code",
   "execution_count": 135,
   "metadata": {},
   "outputs": [],
   "source": [
    "sen = ['I', 'have', 'a', 'dog']"
   ]
  },
  {
   "cell_type": "code",
   "execution_count": 182,
   "metadata": {},
   "outputs": [],
   "source": [
    "trie = zencorpus.CorpusTrie('')"
   ]
  },
  {
   "cell_type": "code",
   "execution_count": 137,
   "metadata": {},
   "outputs": [],
   "source": [
    "trie.insert(sen)"
   ]
  },
  {
   "cell_type": "code",
   "execution_count": 183,
   "metadata": {
    "scrolled": true
   },
   "outputs": [
    {
     "data": {
      "text/plain": [
       "0"
      ]
     },
     "execution_count": 183,
     "metadata": {},
     "output_type": "execute_result"
    }
   ],
   "source": [
    "len(trie)"
   ]
  },
  {
   "cell_type": "code",
   "execution_count": 139,
   "metadata": {},
   "outputs": [
    {
     "name": "stdout",
     "output_type": "stream",
     "text": [
      "\n",
      "I\n",
      "have\n",
      "a\n",
      "dog\n"
     ]
    }
   ],
   "source": [
    "trav = trie.root\n",
    "while not trav.is_leaf():\n",
    "    print(trav.token)\n",
    "    trav = trav.children[-1]\n",
    "print(trav.token)"
   ]
  },
  {
   "cell_type": "code",
   "execution_count": 140,
   "metadata": {},
   "outputs": [],
   "source": [
    "trie.insert(['He', 'has', 'a', 'pen'])"
   ]
  },
  {
   "cell_type": "code",
   "execution_count": 141,
   "metadata": {},
   "outputs": [
    {
     "data": {
      "text/plain": [
       "8"
      ]
     },
     "execution_count": 141,
     "metadata": {},
     "output_type": "execute_result"
    }
   ],
   "source": [
    "len(trie)"
   ]
  },
  {
   "cell_type": "code",
   "execution_count": 142,
   "metadata": {},
   "outputs": [
    {
     "name": "stdout",
     "output_type": "stream",
     "text": [
      "He\n",
      "has\n",
      "a\n",
      "pen\n"
     ]
    }
   ],
   "source": [
    "trav = trie.root.children[1]\n",
    "while not trav.is_leaf():\n",
    "    print(trav.token)\n",
    "    trav = trav.children[-1]\n",
    "print(trav.token)"
   ]
  },
  {
   "cell_type": "code",
   "execution_count": 143,
   "metadata": {},
   "outputs": [],
   "source": [
    "trie.insert(['He', 'has', 'a', 'dog'])"
   ]
  },
  {
   "cell_type": "code",
   "execution_count": 144,
   "metadata": {
    "scrolled": true
   },
   "outputs": [
    {
     "data": {
      "text/plain": [
       "9"
      ]
     },
     "execution_count": 144,
     "metadata": {},
     "output_type": "execute_result"
    }
   ],
   "source": [
    "len(trie)"
   ]
  },
  {
   "cell_type": "code",
   "execution_count": 145,
   "metadata": {},
   "outputs": [
    {
     "name": "stdout",
     "output_type": "stream",
     "text": [
      "He\n",
      "has\n",
      "a\n",
      "pen\n",
      "dog\n",
      "-1\n"
     ]
    }
   ],
   "source": [
    "print(trie.root.get_child(1))\n",
    "print(trie.root.get_child(1).get_child(0))\n",
    "print(trie.root.get_child(1).get_child(0).get_child(0))\n",
    "print(trie.root.get_child(1).get_child(0).get_child(0).get_child(0))\n",
    "print(trie.root.get_child(1).get_child(0).get_child(0).get_child(1))\n",
    "print(trie.root.get_child(1).get_child(0).get_child(0).get_child(2))"
   ]
  },
  {
   "cell_type": "code",
   "execution_count": 146,
   "metadata": {},
   "outputs": [],
   "source": [
    "trie.insert(['He', 'has', 'a', 'dog'])"
   ]
  },
  {
   "cell_type": "code",
   "execution_count": 147,
   "metadata": {},
   "outputs": [
    {
     "data": {
      "text/plain": [
       "9"
      ]
     },
     "execution_count": 147,
     "metadata": {},
     "output_type": "execute_result"
    }
   ],
   "source": [
    "len(trie)"
   ]
  },
  {
   "cell_type": "code",
   "execution_count": 148,
   "metadata": {},
   "outputs": [
    {
     "name": "stdout",
     "output_type": "stream",
     "text": [
      "He\n",
      "has\n",
      "-1\n"
     ]
    }
   ],
   "source": [
    "print(trie.root.get_child(1))\n",
    "print(trie.root.get_child(1).get_child(0))\n",
    "print(trie.root.get_child(1).get_child(1))"
   ]
  },
  {
   "cell_type": "code",
   "execution_count": 160,
   "metadata": {},
   "outputs": [
    {
     "data": {
      "text/plain": [
       "False"
      ]
     },
     "execution_count": 160,
     "metadata": {},
     "output_type": "execute_result"
    }
   ],
   "source": [
    "['I', 'have', 'a', 'dog', '.'] in trie"
   ]
  },
  {
   "cell_type": "code",
   "execution_count": 169,
   "metadata": {},
   "outputs": [],
   "source": [
    "trie.insert(['I', 'like', 'a', 'pen'])\n",
    "trie.insert(['I', 'have', 'a', 'pen'])\n",
    "trie.insert(['I', 'like', 'her'])"
   ]
  },
  {
   "cell_type": "code",
   "execution_count": 170,
   "metadata": {},
   "outputs": [
    {
     "data": {
      "text/plain": [
       "14"
      ]
     },
     "execution_count": 170,
     "metadata": {},
     "output_type": "execute_result"
    }
   ],
   "source": [
    "len(trie)"
   ]
  },
  {
   "cell_type": "code",
   "execution_count": 179,
   "metadata": {},
   "outputs": [
    {
     "name": "stdout",
     "output_type": "stream",
     "text": [
      "a\n",
      "her\n"
     ]
    }
   ],
   "source": [
    "print(trie.root.get_child(0).get_child(1).get_child(0))\n",
    "print(trie.root.get_child(0).get_child(1).get_child(1))"
   ]
  },
  {
   "cell_type": "code",
   "execution_count": 185,
   "metadata": {},
   "outputs": [
    {
     "data": {
      "text/plain": [
       "0"
      ]
     },
     "execution_count": 185,
     "metadata": {},
     "output_type": "execute_result"
    }
   ],
   "source": [
    "len(zencorpus.TrieNode(''))"
   ]
  },
  {
   "cell_type": "code",
   "execution_count": null,
   "metadata": {},
   "outputs": [],
   "source": []
  }
 ],
 "metadata": {
  "kernelspec": {
   "display_name": "Python 3",
   "language": "python",
   "name": "python3"
  },
  "language_info": {
   "codemirror_mode": {
    "name": "ipython",
    "version": 3
   },
   "file_extension": ".py",
   "mimetype": "text/x-python",
   "name": "python",
   "nbconvert_exporter": "python",
   "pygments_lexer": "ipython3",
   "version": "3.7.3"
  }
 },
 "nbformat": 4,
 "nbformat_minor": 2
}
